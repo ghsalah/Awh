{
 "cells": [
  {
   "cell_type": "code",
   "execution_count": 3,
   "id": "70c2646c-8f03-4104-ad88-308e2f113658",
   "metadata": {},
   "outputs": [
    {
     "name": "stdout",
     "output_type": "stream",
     "text": [
      "Array1:\n",
      "[[2 5 2]\n",
      " [1 5 5]]\n",
      "Array2:\n",
      "[[5 3 4]\n",
      " [3 2 5]]\n",
      "\n",
      "Multiply said arrays of same size element-by-element:\n",
      "[[10 15  8]\n",
      " [ 3 10 25]]\n"
     ]
    }
   ],
   "source": [
    "import numpy as np\n",
    "nums1 = np.array([[2, 5, 2],[1, 5, 5]])\n",
    "nums2 = np.array([[5, 3, 4],[3, 2, 5]])\n",
    "\n",
    "print(\"Array1:\") \n",
    "print(nums1)\n",
    "print(\"Array2:\") \n",
    "print(nums2)\n",
    "\n",
    "print(\"\\nMultiply said arrays of same size element-by-element:\")\n",
    "print(np.multiply(nums1, nums2))"
   ]
  },
  {
   "cell_type": "code",
   "execution_count": 5,
   "id": "bef9f075-5306-4716-88be-02b1e15c728d",
   "metadata": {},
   "outputs": [
    {
     "name": "stdout",
     "output_type": "stream",
     "text": [
      "Array A\n",
      "[3 5 1 2 3]\n",
      "\n",
      "Array B\n",
      "[2 5 3 2 1]\n",
      "\n",
      "A>B\n",
      "[ True False False False  True]\n",
      "\n",
      "A>=B\n",
      "[ True  True False  True  True]\n",
      "\n",
      "A<B\n",
      "[False False  True False False]\n",
      "\n",
      "A<=B\n",
      "[False  True  True  True False]\n"
     ]
    }
   ],
   "source": [
    "import numpy as np\n",
    "\n",
    "x = np.array([3,5,1,2,3])\n",
    "y = np.array([2,5,3,2,1])\n",
    "\n",
    "print(\"Array A\")\n",
    "print(x)\n",
    "print(\"\\nArray B\")\n",
    "print(y)\n",
    "\n",
    "print(\"\\nA>B\")\n",
    "print(np.greater(x, y))\n",
    "\n",
    "print(\"\\nA>=B\")\n",
    "print(np.greater_equal(x, y))\n",
    "\n",
    "print(\"\\nA<B\")\n",
    "print(np.less(x, y))\n",
    "\n",
    "print(\"\\nA<=B\")\n",
    "print(np.less_equal(x, y))"
   ]
  },
  {
   "cell_type": "code",
   "execution_count": 9,
   "id": "94d64fca-0d0c-45fd-9a87-52bdc01a4bef",
   "metadata": {},
   "outputs": [
    {
     "name": "stdout",
     "output_type": "stream",
     "text": [
      "[30 32 34 36 38 40 42 44 46 48 50 52 54 56 58 60 62 64 66 68 70]\n"
     ]
    }
   ],
   "source": [
    "import numpy as np\n",
    "\n",
    "x = np.arange(start=30, stop=71, step=2)\n",
    "print(x)\n"
   ]
  },
  {
   "cell_type": "code",
   "execution_count": 11,
   "id": "de66f4aa-323c-4a4f-a82e-78b1f5e301ea",
   "metadata": {},
   "outputs": [
    {
     "name": "stdout",
     "output_type": "stream",
     "text": [
      "[[1. 0. 0.]\n",
      " [0. 1. 0.]\n",
      " [0. 0. 1.]]\n"
     ]
    }
   ],
   "source": [
    "import numpy as np\n",
    "\n",
    "x = np.identity(3)\n",
    "print(x)"
   ]
  },
  {
   "cell_type": "code",
   "execution_count": 13,
   "id": "9ea1c580-51cf-4272-9680-f22e1f3d992a",
   "metadata": {},
   "outputs": [
    {
     "name": "stdout",
     "output_type": "stream",
     "text": [
      "Vectors \n",
      "[ 0  1  2  3  4  5  6  7  8  9 10 11 12 13 14 15 16 17 18 19 20]\n",
      "\n",
      "After changing the sign of the numbers in the range from 9 to 15:\n",
      "[  0   1   2   3   4   5   6   7   8  -9 -10 -11 -12 -13 -14 -15  16  17\n",
      "  18  19  20]\n"
     ]
    }
   ],
   "source": [
    "import numpy as np\n",
    "\n",
    "x = np.arange(21)\n",
    "print(\"Vectors \")\n",
    "print(x)\n",
    "\n",
    "print(\"\\nAfter changing the sign of the numbers in the range from 9 to 15:\")\n",
    "x[(x >= 9) & (x <= 15)] *= -1\n",
    "print(x)"
   ]
  },
  {
   "cell_type": "code",
   "execution_count": 15,
   "id": "36dea4d8-65c8-4807-a020-0a3ae9d1e359",
   "metadata": {},
   "outputs": [
    {
     "name": "stdout",
     "output_type": "stream",
     "text": [
      "[[1 0 0 0 0]\n",
      " [0 2 0 0 0]\n",
      " [0 0 3 0 0]\n",
      " [0 0 0 4 0]\n",
      " [0 0 0 0 5]]\n"
     ]
    }
   ],
   "source": [
    " import numpy as np\n",
    "\n",
    "x = np.diag([1, 2, 3, 4, 5])\n",
    "print(x)"
   ]
  },
  {
   "cell_type": "code",
   "execution_count": 17,
   "id": "a1d00c8b-89d1-48b8-a87f-ef3d51b82e6a",
   "metadata": {},
   "outputs": [
    {
     "name": "stdout",
     "output_type": "stream",
     "text": [
      "Array\n",
      "[[1 0]\n",
      " [0 1]]\n",
      "\n",
      "Sum of all elements\n",
      "2\n",
      "\n",
      "Sum of each column\n",
      "[1 1]\n",
      "\n",
      "Sum of each row\n",
      "[1 1]\n"
     ]
    }
   ],
   "source": [
    " import numpy as np\n",
    "\n",
    "x = np.array([[1,0],[0,1]])\n",
    "\n",
    "print(\"Array\")\n",
    "print(x)\n",
    "\n",
    "print(\"\\nSum of all elements\")\n",
    "print(np.sum(x))\n",
    "\n",
    "print(\"\\nSum of each column\")\n",
    "print(np.sum(x, axis=0))\n",
    "\n",
    "print(\"\\nSum of each row\")\n",
    "print(np.sum(x, axis=1))"
   ]
  },
  {
   "cell_type": "code",
   "execution_count": 19,
   "id": "45e5f4ea-94a3-476c-af09-cea4aa44a480",
   "metadata": {},
   "outputs": [
    {
     "name": "stdout",
     "output_type": "stream",
     "text": [
      "Array:\n",
      "[[ 0  1  2  3]\n",
      " [ 4  5  6  7]\n",
      " [ 8  9 10 11]\n",
      " [12 13 14 15]]\n",
      "\n",
      "After loading, content of the text file:\n",
      "[[ 0.  1.  2.  3.]\n",
      " [ 4.  5.  6.  7.]\n",
      " [ 8.  9. 10. 11.]\n",
      " [12. 13. 14. 15.]]\n"
     ]
    }
   ],
   "source": [
    "import numpy as np\n",
    "import os\n",
    "\n",
    "x = np.arange(16).reshape(4,4)\n",
    "\n",
    "print(\"Array:\")\n",
    "print(x)\n",
    "\n",
    "header = 'C1 C2 C3 C4'\n",
    "np.savetxt('7_array.txt', x, fmt=\"%d\", header=header)\n",
    "\n",
    "print(\"\\nAfter loading, content of the text file:\")\n",
    "print(np.loadtxt('7_array.txt'))"
   ]
  },
  {
   "cell_type": "code",
   "execution_count": 21,
   "id": "1cb9d850-7489-440d-b58d-35ce02ac5084",
   "metadata": {},
   "outputs": [
    {
     "name": "stdout",
     "output_type": "stream",
     "text": [
      "Original arrays:\n",
      "[2 2 3 2 1]\n",
      "[2 3 4 3 1]\n",
      "\n",
      "Test said two arrays are equal (element wise) or not:?\n",
      "[ True False False False  True]\n",
      "[ True False False False  True]\n"
     ]
    }
   ],
   "source": [
    " import numpy as np\n",
    "\n",
    "nums1 = np.array([2,2,3,2,1])\n",
    "nums2 = np.array([2,3,4,3,1])\n",
    "\n",
    "\n",
    "print(\"Original arrays:\")\n",
    "print(nums1)\n",
    "print(nums2)\n",
    "\n",
    "print(\"\\nTest said two arrays are equal (element wise) or not:?\")\n",
    "print(nums1 == nums2)\n",
    "print(np.equal(nums1, nums2))"
   ]
  },
  {
   "cell_type": "code",
   "execution_count": null,
   "id": "819f9266-ae06-4aa2-9560-7daea18aef9c",
   "metadata": {},
   "outputs": [],
   "source": []
  }
 ],
 "metadata": {
  "kernelspec": {
   "display_name": "Python 3 (ipykernel)",
   "language": "python",
   "name": "python3"
  },
  "language_info": {
   "codemirror_mode": {
    "name": "ipython",
    "version": 3
   },
   "file_extension": ".py",
   "mimetype": "text/x-python",
   "name": "python",
   "nbconvert_exporter": "python",
   "pygments_lexer": "ipython3",
   "version": "3.12.4"
  }
 },
 "nbformat": 4,
 "nbformat_minor": 5
}
