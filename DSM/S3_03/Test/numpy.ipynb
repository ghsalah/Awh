{
 "cells": [
  {
   "cell_type": "code",
   "execution_count": 1,
   "id": "160380fa-00f1-49ea-933a-526c0f9624bd",
   "metadata": {},
   "outputs": [
    {
     "name": "stdout",
     "output_type": "stream",
     "text": [
      "1d-array  [1 2 3]\n",
      "2d_array [[1 2 3]\n",
      " [4 5 6]]\n",
      "3rd array [['a' 'b' 'c']\n",
      " ['1' '2' '3']\n",
      " ['@' '#' '$']]\n",
      "a*b [[ 1  4  9]\n",
      " [ 4 10 18]]\n"
     ]
    }
   ],
   "source": [
    "import numpy as np\n",
    "a=np.array([1,2,3]);\n",
    "b=np.array([[1,2,3],[4,5,6]])\n",
    "c=np.array([['a','b','c'],[1,2,3],['@','#','$']])\n",
    "print(\"1d-array \",a)\n",
    "print(\"2d_array\",b)\n",
    "print('3rd array',c)\n",
    "print(\"a*b\",a*b)"
   ]
  },
  {
   "cell_type": "code",
   "execution_count": 15,
   "id": "f9fe252f-ec9a-4e7e-a5ee-b4138a627cf4",
   "metadata": {},
   "outputs": [
    {
     "name": "stdout",
     "output_type": "stream",
     "text": [
      "Square root: [1.         1.41421356 1.73205081 2.         2.23606798]\n",
      "Sine: [ 0.84147098  0.90929743  0.14112001 -0.7568025  -0.95892427]\n",
      "Mean: 3.0\n",
      "Sum: 15\n"
     ]
    }
   ],
   "source": [
    "# Using NumPy's mathematical functions\n",
    "arr = np.array([1, 2, 3, 4, 5])\n",
    "print(\"Square root:\", np.sqrt(arr))\n",
    "print(\"Sine:\", np.sin(arr))\n",
    "print(\"Mean:\", np.mean(arr))\n",
    "print(\"Sum:\", np.sum(arr))\n"
   ]
  },
  {
   "cell_type": "code",
   "execution_count": 8,
   "id": "838661d8-0bdc-41b8-8139-0f8032d7fa00",
   "metadata": {},
   "outputs": [
    {
     "name": "stdout",
     "output_type": "stream",
     "text": [
      "2x2 Array with random values:\n",
      " [[2.57951045 8.33673757]\n",
      " [1.50374076 3.74577801]]\n"
     ]
    }
   ],
   "source": [
    "# Random array\n",
    "random_arr = np.random.rand(2, 2)\n",
    "random_arr=random_arr*10\n",
    "print(\"2x2 Array with random values:\\n\", random_arr)\n"
   ]
  },
  {
   "cell_type": "code",
   "execution_count": 10,
   "id": "67f858e6-2946-48e0-8016-8d3712a4d959",
   "metadata": {},
   "outputs": [
    {
     "name": "stdout",
     "output_type": "stream",
     "text": [
      "[[0. 0.]\n",
      " [0. 0.]\n",
      " [0. 0.]]\n",
      "[[1. 1.]\n",
      " [1. 1.]]\n",
      "[[1. 0. 0. 0.]\n",
      " [0. 1. 0. 0.]\n",
      " [0. 0. 1. 0.]\n",
      " [0. 0. 0. 1.]]\n"
     ]
    }
   ],
   "source": [
    "zero=np.zeros((3,2))\n",
    "print(zero)\n",
    "one=np.ones((2,2))\n",
    "print(one)\n",
    "idm=np.eye((4))\n",
    "print(idm)"
   ]
  },
  {
   "cell_type": "code",
   "execution_count": null,
   "id": "87c10610-4582-4399-9f79-df4a45c21aeb",
   "metadata": {},
   "outputs": [],
   "source": []
  }
 ],
 "metadata": {
  "kernelspec": {
   "display_name": "Python 3 (ipykernel)",
   "language": "python",
   "name": "python3"
  },
  "language_info": {
   "codemirror_mode": {
    "name": "ipython",
    "version": 3
   },
   "file_extension": ".py",
   "mimetype": "text/x-python",
   "name": "python",
   "nbconvert_exporter": "python",
   "pygments_lexer": "ipython3",
   "version": "3.12.7"
  }
 },
 "nbformat": 4,
 "nbformat_minor": 5
}
