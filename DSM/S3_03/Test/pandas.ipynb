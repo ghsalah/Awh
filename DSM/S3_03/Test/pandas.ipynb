{
 "cells": [
  {
   "cell_type": "code",
   "execution_count": 10,
   "id": "c024bd7b-58eb-4a14-b502-e310b0b4af67",
   "metadata": {},
   "outputs": [
    {
     "name": "stdout",
     "output_type": "stream",
     "text": [
      "pandas\n"
     ]
    }
   ],
   "source": [
    "print(\"pandas\")"
   ]
  },
  {
   "cell_type": "code",
   "execution_count": 11,
   "id": "954dc726-dfab-4e67-a135-92fda034bd06",
   "metadata": {},
   "outputs": [
    {
     "name": "stdout",
     "output_type": "stream",
     "text": [
      "['apple', 'banana', 'mango']\n"
     ]
    }
   ],
   "source": [
    "import pandas as pd\n",
    "data1=[\"apple\",\"banana\",\"mango\"]\n",
    "print(data1)"
   ]
  },
  {
   "cell_type": "code",
   "execution_count": 72,
   "id": "c9b76f44-589f-4837-8b81-a1fd398f32d3",
   "metadata": {},
   "outputs": [
    {
     "name": "stdout",
     "output_type": "stream",
     "text": [
      "0     apple\n",
      "1    banana\n",
      "2     mango\n",
      "dtype: object\n"
     ]
    }
   ],
   "source": [
    "\n",
    "Series=pd.Series(data1)\n",
    "print(Series)"
   ]
  },
  {
   "cell_type": "code",
   "execution_count": 37,
   "id": "679d0a22-4a8d-4d63-97b4-717d78ea31b6",
   "metadata": {},
   "outputs": [
    {
     "name": "stdout",
     "output_type": "stream",
     "text": [
      "     name  count  price  stock\n",
      "0   apple      5     50      5\n",
      "1  banana      3     30      8\n",
      "2   mango      6     55      9\n",
      "-----------------------\n",
      "          count      price     stock\n",
      "count  3.000000   3.000000  3.000000\n",
      "mean   4.666667  45.000000  7.333333\n",
      "std    1.527525  13.228757  2.081666\n",
      "min    3.000000  30.000000  5.000000\n",
      "25%    4.000000  40.000000  6.500000\n",
      "50%    5.000000  50.000000  8.000000\n",
      "75%    5.500000  52.500000  8.500000\n",
      "max    6.000000  55.000000  9.000000\n",
      "(3, 4)\n",
      "     name  price\n",
      "0   apple     50\n",
      "1  banana     30\n",
      "2   mango     55\n",
      "0     True\n",
      "1    False\n",
      "2     True\n",
      "Name: price, dtype: bool\n",
      "     name  count  price  stock order\n",
      "0   apple      5     50      5   yes\n",
      "1  banana      3     30      8    no\n",
      "2   mango      6     55      9   yes\n"
     ]
    }
   ],
   "source": [
    "data2={\n",
    "    \"name\":[\"apple\",\"banana\",\"mango\"],\n",
    "    \"count\":[5,3,6],\n",
    "    \"price\":[50,30,55],\n",
    "    \"stock\":[5,8,9]\n",
    "}\n",
    "df=pd.DataFrame(data2)\n",
    "print(df)\n",
    "print(\"-----------------------\")\n",
    "print(df.describe())\n",
    "print(df.shape)\n",
    "print(df[['name','price']])\n",
    "print(df['price']>30)\n",
    "\n",
    "df[\"order\"]=[\"yes\",\"no\",\"yes\"]\n",
    "print(df)"
   ]
  },
  {
   "cell_type": "code",
   "execution_count": 47,
   "id": "d6db73f1-eedc-4151-9f09-69463637b29d",
   "metadata": {},
   "outputs": [
    {
     "name": "stdout",
     "output_type": "stream",
     "text": [
      "       sepal_length  sepal_width  petal_length  petal_width\n",
      "count     63.000000    63.000000     63.000000    63.000000\n",
      "mean       5.233333     3.285714      2.092063     0.488889\n",
      "std        0.600806     0.473101      1.216460     0.474889\n",
      "min        4.300000     2.000000      1.000000     0.100000\n",
      "25%        4.900000     3.000000      1.400000     0.200000\n",
      "50%        5.100000     3.300000      1.500000     0.200000\n",
      "75%        5.450000     3.550000      1.800000     0.450000\n",
      "max        7.000000     4.400000      4.900000     1.600000\n",
      "0      True\n",
      "1     False\n",
      "2     False\n",
      "3     False\n",
      "4     False\n",
      "      ...  \n",
      "58     True\n",
      "59    False\n",
      "60     True\n",
      "61     True\n",
      "62     True\n",
      "Name: sepal_length, Length: 63, dtype: bool\n"
     ]
    }
   ],
   "source": [
    "data3=pd.read_csv(\"iris.csv\")\n",
    "print(data3.describe())\n",
    "print(data3['sepal_length']>5)"
   ]
  },
  {
   "cell_type": "code",
   "execution_count": 50,
   "id": "fa6ddc8d-d954-4e6b-b406-7bc8b77ff82a",
   "metadata": {},
   "outputs": [
    {
     "name": "stdout",
     "output_type": "stream",
     "text": [
      "a    10\n",
      "b    20\n",
      "c    30\n",
      "d    40\n",
      "e    50\n",
      "dtype: int64\n"
     ]
    }
   ],
   "source": [
    "import pandas as pd\n",
    "\n",
    "# Creating a Series\n",
    "data = pd.Series([10, 20, 30, 40, 50], index=['a', 'b', 'c', 'd', 'e'])\n",
    "print(data)\n"
   ]
  },
  {
   "cell_type": "code",
   "execution_count": 51,
   "id": "d6bfa149-511d-41b5-841c-5040af26d591",
   "metadata": {},
   "outputs": [
    {
     "name": "stdout",
     "output_type": "stream",
     "text": [
      "2024-11-16 00:00:00\n",
      "DatetimeIndex(['2023-01-15', '2024-06-10', '2024-11-16'], dtype='datetime64[ns]', freq=None)\n"
     ]
    }
   ],
   "source": [
    "import pandas as pd\n",
    "\n",
    "# Example: Converting a single date string\n",
    "date = pd.to_datetime(\"2024-11-16\")\n",
    "print(date)\n",
    "# Output: 2024-11-16 00:00:00\n",
    "\n",
    "# Converting a list of date strings\n",
    "dates = pd.to_datetime([\"2023-01-15\", \"2024-06-10\", \"2024-11-16\"])\n",
    "print(dates)\n"
   ]
  },
  {
   "cell_type": "code",
   "execution_count": 52,
   "id": "229f9f03-aa06-4871-9c9a-661d8da69f6d",
   "metadata": {},
   "outputs": [
    {
     "name": "stdout",
     "output_type": "stream",
     "text": [
      "        date  year  month  day   weekday  quarter\n",
      "0 2024-11-16  2024     11   16  Saturday        4\n",
      "1 2023-05-21  2023      5   21    Sunday        2\n",
      "2 2022-12-31  2022     12   31  Saturday        4\n"
     ]
    }
   ],
   "source": [
    "# Creating a DataFrame with a date column\n",
    "df = pd.DataFrame({'date': pd.to_datetime([\"2024-11-16\", \"2023-05-21\", \"2022-12-31\"])})\n",
    "\n",
    "# Extracting components\n",
    "df['year'] = df['date'].dt.year\n",
    "df['month'] = df['date'].dt.month\n",
    "df['day'] = df['date'].dt.day\n",
    "df['weekday'] = df['date'].dt.day_name()\n",
    "df['quarter'] = df['date'].dt.quarter\n",
    "\n",
    "print(df)\n"
   ]
  },
  {
   "cell_type": "code",
   "execution_count": 58,
   "id": "41a11df8-2d8a-46e3-a5e2-de1c21722cbc",
   "metadata": {},
   "outputs": [
    {
     "name": "stdout",
     "output_type": "stream",
     "text": [
      "2024-11-10\n",
      "2024-11-11\n",
      "2024-11-12\n",
      "2024-11-13\n",
      "2024-11-14\n",
      "2024-11-15\n",
      "2024-11-16\n",
      "2024-11-17\n",
      "2024-11-18\n",
      "2024-11-19\n",
      "2024-11-20\n",
      "2024-11-21\n",
      "2024-11-22\n",
      "2024-11-23\n",
      "2024-11-24\n",
      "2024-11-25\n",
      "2024-11-26\n",
      "2024-11-27\n",
      "2024-11-28\n",
      "2024-11-29\n",
      "2024-11-30\n",
      "2024-12-01\n",
      "2024-12-02\n",
      "2024-12-03\n",
      "2024-12-04\n",
      "2024-12-05\n",
      "2024-12-06\n",
      "2024-12-07\n",
      "2024-12-08\n",
      "2024-12-09\n",
      "2024-12-10\n",
      "2024-12-11\n",
      "2024-12-12\n",
      "2024-12-13\n",
      "2024-12-14\n",
      "2024-12-15\n",
      "2024-12-16\n",
      "2024-12-17\n",
      "2024-12-18\n",
      "2024-12-19\n",
      "2024-12-20\n",
      "2024-12-21\n",
      "2024-12-22\n",
      "2024-12-23\n",
      "2024-12-24\n",
      "2024-12-25\n",
      "2024-12-26\n",
      "2024-12-27\n",
      "2024-12-28\n",
      "2024-12-29\n",
      "2024-12-30\n",
      "2024-12-31\n",
      "2025-01-01\n"
     ]
    }
   ],
   "source": [
    "s='2024-11-10'\n",
    "e='2025-1-1'\n",
    "dates=pd.date_range(start=s,end=e)\n",
    "for d in dates:\n",
    "    print(d.date())"
   ]
  },
  {
   "cell_type": "code",
   "execution_count": 74,
   "id": "77affaea-4c98-4236-9fad-d917fc98ba49",
   "metadata": {},
   "outputs": [
    {
     "name": "stdout",
     "output_type": "stream",
     "text": [
      "2024-10-14\n",
      "2024-10-21\n"
     ]
    }
   ],
   "source": [
    "sd='2024-10-14'\n",
    "ed='2024-10-24'\n",
    "date_range=pd.date_range(sd,ed,freq='w-mon')\n",
    "for d in date_range:\n",
    "    print(d.date())"
   ]
  },
  {
   "cell_type": "code",
   "execution_count": null,
   "id": "e1e8551c-814e-401a-9690-97ea343f027e",
   "metadata": {},
   "outputs": [],
   "source": []
  }
 ],
 "metadata": {
  "kernelspec": {
   "display_name": "Python 3 (ipykernel)",
   "language": "python",
   "name": "python3"
  },
  "language_info": {
   "codemirror_mode": {
    "name": "ipython",
    "version": 3
   },
   "file_extension": ".py",
   "mimetype": "text/x-python",
   "name": "python",
   "nbconvert_exporter": "python",
   "pygments_lexer": "ipython3",
   "version": "3.12.7"
  }
 },
 "nbformat": 4,
 "nbformat_minor": 5
}
