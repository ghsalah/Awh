{
 "cells": [
  {
   "cell_type": "code",
   "execution_count": 2,
   "id": "1b1f1a54-a40a-409d-8b82-7de486fb0f2e",
   "metadata": {},
   "outputs": [
    {
     "name": "stdout",
     "output_type": "stream",
     "text": [
      "8\n",
      "4\n",
      "12\n",
      "3.0\n",
      "0\n",
      "36\n",
      "3\n",
      "g\n"
     ]
    }
   ],
   "source": [
    "x=6\n",
    "y=2\n",
    "print(x+y)\n",
    "print(x-y)\n",
    "print(x*y)\n",
    "print(x/y)\n",
    "print(x%y)\n",
    "print(x**y)\n",
    "print(x//y)\n"
   ]
  },
  {
   "cell_type": "code",
   "execution_count": 7,
   "id": "074bd871-8a87-44f6-8119-4e1bdc74ce53",
   "metadata": {},
   "outputs": [
    {
     "name": "stdout",
     "output_type": "stream",
     "text": [
      "{2: 'c', 4: 'd'}\n"
     ]
    }
   ],
   "source": [
    "dict_1={1:'a',2:'b'}\n",
    "dict_2={2:'c',4:'d'}\n",
    "dict_3=dict_2.copy()\n",
    "\n",
    "print(dict_3)\n",
    "\n"
   ]
  },
  {
   "cell_type": "code",
   "execution_count": 15,
   "id": "954196e9-22fb-42ac-9f73-10d590aeb8b3",
   "metadata": {},
   "outputs": [
    {
     "name": "stdin",
     "output_type": "stream",
     "text": [
      "Enter a number 3\n",
      "Enter a element :  1\n",
      "Enter a element :  2\n",
      "Enter a element :  3\n"
     ]
    },
    {
     "name": "stdout",
     "output_type": "stream",
     "text": [
      "[1, 2, 3]\n"
     ]
    }
   ],
   "source": [
    "list_1=[]\n",
    "num=int(input(\"Enter a number\"))\n",
    "for i in range(num):\n",
    "    ele=int(input(\"Enter a element : \"))\n",
    "    list_1.append(ele)\n",
    "    \n",
    "print(list_1)"
   ]
  },
  {
   "cell_type": "code",
   "execution_count": 7,
   "id": "ba3add23-d1fd-4d36-8f68-19d52ffd8df2",
   "metadata": {},
   "outputs": [
    {
     "name": "stdout",
     "output_type": "stream",
     "text": [
      "matrix operation : \n",
      "matrix a : \n",
      "[[2 4]\n",
      " [6 3]]\n",
      "matrix b : \n",
      "[[4 2]\n",
      " [3 6]]\n",
      "add : \n",
      "[[6 6]\n",
      " [9 9]]\n",
      "sub : \n",
      "[[-2  2]\n",
      " [ 3 -3]]\n",
      "mul : \n",
      "[[ 8  8]\n",
      " [18 18]]\n",
      "div : \n",
      "[[0.5 2. ]\n",
      " [2.  0.5]]\n",
      "dot : \n",
      "[[20 28]\n",
      " [33 30]]\n",
      "[[-0.51868371 -0.8549662 ]\n",
      " [-0.8549662   0.51868371]]\n",
      "[7.71752021 2.33235541]\n",
      "[[-0.79911221 -0.6011819 ]\n",
      " [ 0.6011819  -0.79911221]]\n"
     ]
    }
   ],
   "source": [
    "import numpy as np\n",
    "print(\"matrix operation : \")\n",
    "a=np.array([[2,4],[6,3]])\n",
    "b=np.array([[4,2],[3,6]])\n",
    "c=a+b\n",
    "d=a-b\n",
    "e=a*b\n",
    "f=a/b\n",
    "g=np.dot(a,b)\n",
    "h,i,j=np.linalg.svd(a)\n",
    "print(\"matrix a : \")\n",
    "print(a)\n",
    "print(\"matrix b : \")\n",
    "print(b)\n",
    "print(\"add : \")\n",
    "print(c)\n",
    "print(\"sub : \")\n",
    "print(d)\n",
    "print(\"mul : \")\n",
    "print(e)\n",
    "print(\"div : \")\n",
    "print(f)\n",
    "print(\"dot : \")\n",
    "print(g)\n",
    "print(h)\n",
    "print(i)\n",
    "print(j)"
   ]
  },
  {
   "cell_type": "code",
   "execution_count": 8,
   "id": "2314ebf6-8459-4207-ba49-27d55da6fde9",
   "metadata": {},
   "outputs": [
    {
     "name": "stdout",
     "output_type": "stream",
     "text": [
      "\n",
      "Select operation:\n",
      "1. Add\n",
      "2. Subtract\n",
      "3. Multiply\n",
      "4. Divide\n",
      "5. Exit\n"
     ]
    },
    {
     "name": "stdin",
     "output_type": "stream",
     "text": [
      "Enter choice (1/2/3/4/5):  1\n",
      "Enter first number:  2\n",
      "Enter second number:  3\n"
     ]
    },
    {
     "name": "stdout",
     "output_type": "stream",
     "text": [
      "Result: 5.0\n",
      "\n",
      "Select operation:\n",
      "1. Add\n",
      "2. Subtract\n",
      "3. Multiply\n",
      "4. Divide\n",
      "5. Exit\n"
     ]
    },
    {
     "name": "stdin",
     "output_type": "stream",
     "text": [
      "Enter choice (1/2/3/4/5):  5\n"
     ]
    },
    {
     "name": "stdout",
     "output_type": "stream",
     "text": [
      "Exiting the calculator. Goodbye!\n"
     ]
    }
   ],
   "source": [
    "def add(x, y):\n",
    "    return x + y\n",
    "\n",
    "def subtract(x, y):\n",
    "    return x - y\n",
    "\n",
    "def multiply(x, y):\n",
    "    return x * y\n",
    "\n",
    "def divide(x, y):\n",
    "    if y == 0:\n",
    "        return \"Cannot divide by zero\"\n",
    "    return x / y\n",
    "\n",
    "while True:\n",
    "    print(\"\\nSelect operation:\")\n",
    "    print(\"1. Add\")\n",
    "    print(\"2. Subtract\")\n",
    "    print(\"3. Multiply\")\n",
    "    print(\"4. Divide\")\n",
    "    print(\"5. Exit\")\n",
    "\n",
    "    choice = input(\"Enter choice (1/2/3/4/5): \")\n",
    "\n",
    "    if choice == '5':\n",
    "        print(\"Exiting the calculator. Goodbye!\")\n",
    "        break  # Exit the loop and end the program\n",
    "\n",
    "    if choice in ('1', '2', '3', '4'):\n",
    "        num1 = float(input(\"Enter first number: \"))\n",
    "        num2 = float(input(\"Enter second number: \"))\n",
    "\n",
    "        if choice == '1':\n",
    "            print(\"Result:\", add(num1, num2))\n",
    "\n",
    "        elif choice == '2':\n",
    "            print(\"Result:\", subtract(num1, num2))\n",
    "\n",
    "        elif choice == '3':\n",
    "            print(\"Result:\", multiply(num1, num2))\n",
    "\n",
    "        elif choice == '4':\n",
    "            print(\"Result:\", divide(num1, num2))\n",
    "\n",
    "    else:\n",
    "        print(\"Invalid input. Please choose a valid option.\")\n"
   ]
  },
  {
   "cell_type": "code",
   "execution_count": 16,
   "id": "66faae25-0d7e-4b54-9a1c-5694d9f3c4ac",
   "metadata": {},
   "outputs": [
    {
     "name": "stdout",
     "output_type": "stream",
     "text": [
      "1-add\n",
      "2-sub/n3-mul\n",
      " 4-div\n",
      "5-exit\n"
     ]
    },
    {
     "name": "stdin",
     "output_type": "stream",
     "text": [
      "enter ur choice 1\n",
      "enter the 1st number 1\n",
      "enter the 2nd number 2\n"
     ]
    },
    {
     "name": "stdout",
     "output_type": "stream",
     "text": [
      "3\n",
      "1-add\n",
      "2-sub/n3-mul\n",
      " 4-div\n",
      "5-exit\n"
     ]
    },
    {
     "name": "stdin",
     "output_type": "stream",
     "text": [
      "enter ur choice 2\n",
      "enter the 1st number 4\n",
      "enter the 2nd number 2\n"
     ]
    },
    {
     "name": "stdout",
     "output_type": "stream",
     "text": [
      "2\n",
      "1-add\n",
      "2-sub/n3-mul\n",
      " 4-div\n",
      "5-exit\n"
     ]
    },
    {
     "name": "stdin",
     "output_type": "stream",
     "text": [
      "enter ur choice 3\n",
      "enter the 1st number 2\n",
      "enter the 2nd number 3\n"
     ]
    },
    {
     "name": "stdout",
     "output_type": "stream",
     "text": [
      "6\n",
      "1-add\n",
      "2-sub/n3-mul\n",
      " 4-div\n",
      "5-exit\n"
     ]
    },
    {
     "name": "stdin",
     "output_type": "stream",
     "text": [
      "enter ur choice 4\n",
      "enter the 1st number 4\n",
      "enter the 2nd number 3\n"
     ]
    },
    {
     "name": "stdout",
     "output_type": "stream",
     "text": [
      "1.3333333333333333\n",
      "1-add\n",
      "2-sub/n3-mul\n",
      " 4-div\n",
      "5-exit\n"
     ]
    },
    {
     "name": "stdin",
     "output_type": "stream",
     "text": [
      "enter ur choice 5\n"
     ]
    },
    {
     "name": "stdout",
     "output_type": "stream",
     "text": [
      "bye bye\n"
     ]
    }
   ],
   "source": [
    "def add(a,b):\n",
    "    print(a+b)\n",
    "    \n",
    "def sub(a,b):\n",
    "    print(a-b)\n",
    "def mul(a,b):\n",
    "    print(a*b)\n",
    "def div(a,b):\n",
    "    print(a/b)\n",
    "while True:\n",
    "    print(\"1-add\\n2-sub/n3-mul\\n 4-div\\n5-exit\")\n",
    "    ch=int(input(\"enter ur choice\"))\n",
    "    if ch==5:\n",
    "        print(\"bye bye\")\n",
    "        break\n",
    "    if ch in (1,2,3,4):\n",
    "        n1=int(input(\"enter the 1st number\"))\n",
    "        n2=int(input(\"enter the 2nd number\"))\n",
    "        if ch==1:\n",
    "            add(n1,n2)\n",
    "        elif ch==2:\n",
    "            sub(n1,n2)\n",
    "        elif ch==3:\n",
    "            mul(n1,n2)\n",
    "        elif ch==4:\n",
    "            div(n1,n2)\n",
    "    else:\n",
    "        print(\"invalid ples try agin\")\n",
    "            \n",
    "        \n",
    "    \n",
    "    "
   ]
  },
  {
   "cell_type": "code",
   "execution_count": null,
   "id": "b9aef51e-261b-4bdf-9894-f0fc1d7215e5",
   "metadata": {},
   "outputs": [],
   "source": [
    "import numpy as np \n",
    "from sklearn.datasets import load_iris\n",
    "from sklearn.model_selection import train_test_split \n",
    "from sklearn.neighbors import KNeighborsClassifier\n",
    "from sklearn.metrics import accuracy_score\n",
    "data = load_iris()\n",
    "X = data.data\n",
    "y= data.target\n",
    "X_train,X_test,y_train,y_test = train_test_split(X,y,test_size=0.2,random_state=42)\n",
    "k=3 \n",
    "knn = KNeighborsClassifier(n_neighbors=k)\n",
    "knn.fit(X_train,y_train)\n",
    "y_pred = knn.predict(X_test)\n",
    "accuracy = accuracy_score(y_test,y_pred)\n",
    "print(f'Accuracy of k-NN with k={k}: {accuracy:2f}')"
   ]
  },
  {
   "cell_type": "code",
   "execution_count": 19,
   "id": "b29f4074-a652-46b5-af11-2204456ae518",
   "metadata": {},
   "outputs": [
    {
     "name": "stdout",
     "output_type": "stream",
     "text": [
      "\n",
      "Simple Calculator\n",
      "1. Add\n",
      "2. Subtract\n",
      "3. Multiply\n",
      "4. Divide\n",
      "5. Exit\n"
     ]
    },
    {
     "name": "stdin",
     "output_type": "stream",
     "text": [
      "Enter your choice (1-5):  1\n",
      "Enter the first number:  1\n",
      "Enter the second number:  2\n"
     ]
    },
    {
     "name": "stdout",
     "output_type": "stream",
     "text": [
      "Result: 1.0 + 2.0 = 3.0\n",
      "\n",
      "Simple Calculator\n",
      "1. Add\n",
      "2. Subtract\n",
      "3. Multiply\n",
      "4. Divide\n",
      "5. Exit\n"
     ]
    },
    {
     "name": "stdin",
     "output_type": "stream",
     "text": [
      "Enter your choice (1-5):  5\n"
     ]
    },
    {
     "name": "stdout",
     "output_type": "stream",
     "text": [
      "Exiting the calculator. Goodbye!\n"
     ]
    }
   ],
   "source": [
    "while True:\n",
    "    print(\"\\nSimple Calculator\")\n",
    "    print(\"1. Add\")\n",
    "    print(\"2. Subtract\")\n",
    "    print(\"3. Multiply\")\n",
    "    print(\"4. Divide\")\n",
    "    print(\"5. Exit\")\n",
    "    \n",
    "    try:\n",
    "        # Get the user's choice\n",
    "        choice = int(input(\"Enter your choice (1-5): \"))\n",
    "        \n",
    "        if choice == 5:\n",
    "            print(\"Exiting the calculator. Goodbye!\")\n",
    "            break\n",
    "        \n",
    "        # Check if the choice is within the valid options\n",
    "        if choice in [1, 2, 3, 4]:\n",
    "            # Get two numbers from the user\n",
    "            num1 = float(input(\"Enter the first number: \"))\n",
    "            num2 = float(input(\"Enter the second number: \"))\n",
    "            \n",
    "            if choice == 1:\n",
    "                result = num1 + num2\n",
    "                print(f\"Result: {num1} + {num2} = {result}\")\n",
    "            elif choice == 2:\n",
    "                result = num1 - num2\n",
    "                print(f\"Result: {num1} - {num2} = {result}\")\n",
    "            elif choice == 3:\n",
    "                result = num1 * num2\n",
    "                print(f\"Result: {num1} * {num2} = {result}\")\n",
    "            elif choice == 4:\n",
    "                # Handle division by zero\n",
    "                if num2 == 0:\n",
    "                    print(\"Error: Division by zero is not allowed.\")\n",
    "                else:\n",
    "                    result = num1 / num2\n",
    "                    print(f\"Result: {num1} / {num2} = {result}\")\n",
    "        else:\n",
    "            print(\"Invalid choice! Please select a valid option.\")\n",
    "    \n",
    "    except ValueError:\n",
    "        print(\"Invalid input! Please enter a number for your choice and the numbers.\")"
   ]
  },
  {
   "cell_type": "code",
   "execution_count": 24,
   "id": "0e22b0bc-73a1-4198-b96f-b68f3a83f833",
   "metadata": {},
   "outputs": [
    {
     "name": "stdout",
     "output_type": "stream",
     "text": [
      "Accuracy of k-NN with k=3: 1.000000\n"
     ]
    }
   ],
   "source": [
    "import numpy as np \n",
    "from sklearn import*\n",
    "data = load_iris()\n",
    "X = data.data\n",
    "y= data.target\n",
    "X_train,X_test,y_train,y_test = train_test_split(X,y,test_size=0.2,random_state=42)\n",
    "k=3 \n",
    "knn = KNeighborsClassifier(n_neighbors=k)\n",
    "knn.fit(X_train,y_train)\n",
    "y_pred = knn.predict(X_test)\n",
    "accuracy = accuracy_score(y_test,y_pred)\n",
    "print(f'Accuracy of k-NN with k={k}: {accuracy:2f}')"
   ]
  },
  {
   "cell_type": "code",
   "execution_count": 40,
   "id": "fc0eab59-1ee5-4d83-a970-8b78c3f52324",
   "metadata": {},
   "outputs": [
    {
     "data": {
      "image/png": "[encoded data removed]",
      "text/plain": [
       "<Figure size 640x480 with 1 Axes>"
      ]
     },
     "metadata": {},
     "output_type": "display_data"
    }
   ],
   "source": [
    "import matplotlib.pyplot as plt\n",
    "import numpy as np\n",
    "\n",
    "xpoints = np.array([1, 2, 6, 18])\n",
    "ypoints = np.array([3, 10, 12, 20])\n",
    "\n",
    "plt.plot(xpoints, ypoints)\n",
    "plt.show()"
   ]
  },
  {
   "cell_type": "code",
   "execution_count": 49,
   "id": "77c32415-9bf1-4b63-8957-38955be725d7",
   "metadata": {},
   "outputs": [
    {
     "data": {
      "image/png": "[encoded data removed]",
      "text/plain": [
       "<Figure size 640x480 with 1 Axes>"
      ]
     },
     "metadata": {},
     "output_type": "display_data"
    }
   ],
   "source": [
    "import matplotlib.pyplot as plt\n",
    "import numpy as np\n",
    "\n",
    "x1 = [10,20,30]\n",
    "y1 = [10,20,30]\n",
    "plt.plot(x1, y1, label = \"line 1\")\n",
    "\n",
    "x2 = [30,40,50]\n",
    "y2 = [30,40,50]\n",
    "plt.plot(x2, y2, label = \"line 2\")\n",
    "\n",
    "x3 = [50,60,70,80]\n",
    "y3 = [50,60,70,80]\n",
    "plt.plot(x3, y3, label = \"line 3\")\n",
    "\n",
    "plt.xlabel('x axis')\n",
    "plt.ylabel('y axis')\n",
    "\n",
    "plt.title('Two Line plot')\n",
    "\n",
    "plt.legend()\n",
    "plt.show()"
   ]
  },
  {
   "cell_type": "code",
   "execution_count": 58,
   "id": "45bdda80-a33c-4928-b70b-9d8238ef0659",
   "metadata": {},
   "outputs": [
    {
     "data": {
      "image/png": "[encoded data removed]",
      "text/plain": [
       "<Figure size 640x480 with 1 Axes>"
      ]
     },
     "metadata": {},
     "output_type": "display_data"
    }
   ],
   "source": [
    "import matplotlib.pyplot as plt\n",
    "import numpy as np\n",
    "xpoints=np.array([12,14,16,18,20,22,24])\n",
    "ypoints=np.array([100,200,250,400,300,450,500])\n",
    "plt.plot(xpoints,ypoints,color='y',marker='*')\n",
    "plt.show()"
   ]
  },
  {
   "cell_type": "code",
   "execution_count": 59,
   "id": "c5fedfb5-a918-4a9a-b26c-055ad06c9a6f",
   "metadata": {},
   "outputs": [
    {
     "data": {
      "image/png": "[encoded data removed]",
      "text/plain": [
       "<Figure size 640x480 with 4 Axes>"
      ]
     },
     "metadata": {},
     "output_type": "display_data"
    }
   ],
   "source": [
    "import matplotlib.pyplot as plt\n",
    "import numpy as np \n",
    "x=np.array([12,34,5645,234])\n",
    "y=np.array([234,45,23,234])\n",
    "plt.subplot(2,3,1)\n",
    "plt.plot(x,y,color='r')\n",
    "\n",
    "x=np.array([121,341,56415,2134])\n",
    "y=np.array([2341,415,213,2314])\n",
    "plt.subplot(2,3,2)\n",
    "plt.plot(x,y,color='g')\n",
    "\n",
    "x=np.array([21,41,6415,134])\n",
    "y=np.array([241,15,23,314])\n",
    "plt.subplot(2,3,3)\n",
    "plt.plot(x,y,color='b')\n",
    "\n",
    "x=np.array([21,41,6415,134])\n",
    "y=np.array([241,15,23,314])\n",
    "plt.subplot(2,3,4)\n",
    "plt.plot(x,y,color='w')\n",
    "\n",
    "\n",
    "plt.show()"
   ]
  },
  {
   "cell_type": "code",
   "execution_count": null,
   "id": "5aa1e3af-941c-4e02-a4d7-23eb851e607c",
   "metadata": {},
   "outputs": [],
   "source": []
  }
 ],
 "metadata": {
  "kernelspec": {
   "display_name": "Python 3 (ipykernel)",
   "language": "python",
   "name": "python3"
  },
  "language_info": {
   "codemirror_mode": {
    "name": "ipython",
    "version": 3
   },
   "file_extension": ".py",
   "mimetype": "text/x-python",
   "name": "python",
   "nbconvert_exporter": "python",
   "pygments_lexer": "ipython3",
   "version": "3.12.7"
  }
 },
 "nbformat": 4,
 "nbformat_minor": 5
}
